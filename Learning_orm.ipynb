{
 "cells": [
  {
   "cell_type": "markdown",
   "metadata": {},
   "source": [
    "The enum keyword is used to declare an enumeration, a distinct type that consists of a set of named constants called the enumerator list. "
   ]
  },
  {
   "cell_type": "code",
   "execution_count": 1,
   "metadata": {
    "collapsed": true
   },
   "outputs": [],
   "source": [
    "from enum import Enum\n",
    "\n",
    "Month = Enum('Month', ('Jan', 'Feb', 'Mar', 'Apr', 'May', 'Jun', 'Jul', 'Aug', 'Sep', 'Oct', 'Nov', 'Dec'))"
   ]
  },
  {
   "cell_type": "code",
   "execution_count": 6,
   "metadata": {},
   "outputs": [
    {
     "name": "stdout",
     "output_type": "stream",
     "text": [
      "Jan => Month.Jan , 1\n",
      "Feb => Month.Feb , 2\n",
      "Mar => Month.Mar , 3\n",
      "Apr => Month.Apr , 4\n",
      "May => Month.May , 5\n",
      "Jun => Month.Jun , 6\n",
      "Jul => Month.Jul , 7\n",
      "Aug => Month.Aug , 8\n",
      "Sep => Month.Sep , 9\n",
      "Oct => Month.Oct , 10\n",
      "Nov => Month.Nov , 11\n",
      "Dec => Month.Dec , 12\n"
     ]
    }
   ],
   "source": [
    "for name, member in Month.__members__.items():\n",
    "    print(name, '=>', member, ',', member.value)"
   ]
  },
  {
   "cell_type": "code",
   "execution_count": 5,
   "metadata": {},
   "outputs": [
    {
     "data": {
      "text/plain": [
       "odict_items([('Jan', <Month.Jan: 1>), ('Feb', <Month.Feb: 2>), ('Mar', <Month.Mar: 3>), ('Apr', <Month.Apr: 4>), ('May', <Month.May: 5>), ('Jun', <Month.Jun: 6>), ('Jul', <Month.Jul: 7>), ('Aug', <Month.Aug: 8>), ('Sep', <Month.Sep: 9>), ('Oct', <Month.Oct: 10>), ('Nov', <Month.Nov: 11>), ('Dec', <Month.Dec: 12>)])"
      ]
     },
     "execution_count": 5,
     "metadata": {},
     "output_type": "execute_result"
    }
   ],
   "source": [
    "Month.__members__.items()"
   ]
  },
  {
   "cell_type": "code",
   "execution_count": 7,
   "metadata": {
    "collapsed": true
   },
   "outputs": [],
   "source": [
    "class Gender(Enum):\n",
    "    Male = 0\n",
    "    Female = 1\n",
    "\n",
    "class Student(object):\n",
    "    def __init__(self, name, Gender):\n",
    "        self.name = name\n",
    "        self.gender = Gender"
   ]
  },
  {
   "cell_type": "code",
   "execution_count": 10,
   "metadata": {},
   "outputs": [
    {
     "data": {
      "text/plain": [
       "<Gender.Female: 1>"
      ]
     },
     "execution_count": 10,
     "metadata": {},
     "output_type": "execute_result"
    }
   ],
   "source": [
    "Gender.Female"
   ]
  },
  {
   "cell_type": "code",
   "execution_count": 20,
   "metadata": {
    "collapsed": true
   },
   "outputs": [],
   "source": [
    "alice = Student(\"Alice\", Gender.Female)"
   ]
  },
  {
   "cell_type": "code",
   "execution_count": 21,
   "metadata": {},
   "outputs": [
    {
     "data": {
      "text/plain": [
       "'Alice'"
      ]
     },
     "execution_count": 21,
     "metadata": {},
     "output_type": "execute_result"
    }
   ],
   "source": [
    "alice.name"
   ]
  },
  {
   "cell_type": "code",
   "execution_count": 22,
   "metadata": {},
   "outputs": [
    {
     "data": {
      "text/plain": [
       "<Gender.Female: 1>"
      ]
     },
     "execution_count": 22,
     "metadata": {},
     "output_type": "execute_result"
    }
   ],
   "source": [
    "alice.gender"
   ]
  },
  {
   "cell_type": "markdown",
   "metadata": {},
   "source": [
    "The usage of Python @property."
   ]
  },
  {
   "cell_type": "code",
   "execution_count": 63,
   "metadata": {
    "collapsed": true
   },
   "outputs": [],
   "source": [
    "class User(object):\n",
    "    \n",
    "    @property\n",
    "    def password(self):\n",
    "        # Use to get the attribute\n",
    "        self._password = 'm'.join(self._password.split(\"s\"))\n",
    "        return self._password\n",
    "    \n",
    "    @password.setter\n",
    "    def password(self, value):\n",
    "        # Use to set the attribute\n",
    "        if len(value) <= 8:\n",
    "            raise ValueError('Password length too short.')\n",
    "        self._password = value"
   ]
  },
  {
   "cell_type": "code",
   "execution_count": 64,
   "metadata": {
    "collapsed": true
   },
   "outputs": [],
   "source": [
    "user = User() # new instance of user object"
   ]
  },
  {
   "cell_type": "code",
   "execution_count": 65,
   "metadata": {},
   "outputs": [
    {
     "ename": "ValueError",
     "evalue": "Password length too short.",
     "output_type": "error",
     "traceback": [
      "\u001b[0;31m---------------------------------------------------------------------------\u001b[0m",
      "\u001b[0;31mValueError\u001b[0m                                Traceback (most recent call last)",
      "\u001b[0;32m<ipython-input-65-90a8f59aa65e>\u001b[0m in \u001b[0;36m<module>\u001b[0;34m()\u001b[0m\n\u001b[0;32m----> 1\u001b[0;31m \u001b[0muser\u001b[0m\u001b[0;34m.\u001b[0m\u001b[0mpassword\u001b[0m \u001b[0;34m=\u001b[0m \u001b[0;34m\"badpass\"\u001b[0m\u001b[0;34m\u001b[0m\u001b[0m\n\u001b[0m",
      "\u001b[0;32m<ipython-input-63-0b42120b7df8>\u001b[0m in \u001b[0;36mpassword\u001b[0;34m(self, value)\u001b[0m\n\u001b[1;32m      9\u001b[0m     \u001b[0;32mdef\u001b[0m \u001b[0mpassword\u001b[0m\u001b[0;34m(\u001b[0m\u001b[0mself\u001b[0m\u001b[0;34m,\u001b[0m \u001b[0mvalue\u001b[0m\u001b[0;34m)\u001b[0m\u001b[0;34m:\u001b[0m\u001b[0;34m\u001b[0m\u001b[0m\n\u001b[1;32m     10\u001b[0m         \u001b[0;32mif\u001b[0m \u001b[0mlen\u001b[0m\u001b[0;34m(\u001b[0m\u001b[0mvalue\u001b[0m\u001b[0;34m)\u001b[0m \u001b[0;34m<=\u001b[0m \u001b[0;36m8\u001b[0m\u001b[0;34m:\u001b[0m\u001b[0;34m\u001b[0m\u001b[0m\n\u001b[0;32m---> 11\u001b[0;31m             \u001b[0;32mraise\u001b[0m \u001b[0mValueError\u001b[0m\u001b[0;34m(\u001b[0m\u001b[0;34m'Password length too short.'\u001b[0m\u001b[0;34m)\u001b[0m\u001b[0;34m\u001b[0m\u001b[0m\n\u001b[0m\u001b[1;32m     12\u001b[0m         \u001b[0mself\u001b[0m\u001b[0;34m.\u001b[0m\u001b[0m_password\u001b[0m \u001b[0;34m=\u001b[0m \u001b[0mvalue\u001b[0m\u001b[0;34m\u001b[0m\u001b[0m\n",
      "\u001b[0;31mValueError\u001b[0m: Password length too short."
     ]
    }
   ],
   "source": [
    "user.password = \"badpass\""
   ]
  },
  {
   "cell_type": "code",
   "execution_count": 66,
   "metadata": {
    "collapsed": true
   },
   "outputs": [],
   "source": [
    "user.password = \"goodpassword\""
   ]
  },
  {
   "cell_type": "code",
   "execution_count": 67,
   "metadata": {},
   "outputs": [
    {
     "data": {
      "text/plain": [
       "'goodpammword'"
      ]
     },
     "execution_count": 67,
     "metadata": {},
     "output_type": "execute_result"
    }
   ],
   "source": [
    "user.password"
   ]
  },
  {
   "cell_type": "code",
   "execution_count": 68,
   "metadata": {},
   "outputs": [
    {
     "data": {
      "text/plain": [
       "11"
      ]
     },
     "execution_count": 68,
     "metadata": {},
     "output_type": "execute_result"
    }
   ],
   "source": [
    "abs(-11)"
   ]
  },
  {
   "cell_type": "code",
   "execution_count": 80,
   "metadata": {
    "collapsed": true
   },
   "outputs": [],
   "source": [
    "def fn(self, name):\n",
    "    return name"
   ]
  },
  {
   "cell_type": "code",
   "execution_count": 81,
   "metadata": {
    "collapsed": true
   },
   "outputs": [],
   "source": [
    "User = type('User', (object,), dict(get_name=fn))"
   ]
  },
  {
   "cell_type": "code",
   "execution_count": 82,
   "metadata": {},
   "outputs": [
    {
     "data": {
      "text/plain": [
       "'my name'"
      ]
     },
     "execution_count": 82,
     "metadata": {},
     "output_type": "execute_result"
    }
   ],
   "source": [
    "user = User()\n",
    "user.get_name('my name')"
   ]
  },
  {
   "cell_type": "markdown",
   "metadata": {},
   "source": [
    "`Select` has result from the db, but `Insert, Update, Delete` will return the interation of row."
   ]
  },
  {
   "cell_type": "code",
   "execution_count": 89,
   "metadata": {
    "collapsed": true
   },
   "outputs": [],
   "source": [
    "import sqlite3\n",
    "conn = sqlite3.connect('file:/tmp/data.db', uri=True)"
   ]
  },
  {
   "cell_type": "code",
   "execution_count": 90,
   "metadata": {
    "collapsed": true
   },
   "outputs": [],
   "source": [
    "cur = conn.cursor()"
   ]
  },
  {
   "cell_type": "code",
   "execution_count": 98,
   "metadata": {
    "collapsed": true
   },
   "outputs": [],
   "source": [
    "cur = cur.execute('SELECT * FROM todo_list;')"
   ]
  },
  {
   "cell_type": "code",
   "execution_count": 99,
   "metadata": {},
   "outputs": [
    {
     "data": {
      "text/plain": [
       "-1"
      ]
     },
     "execution_count": 99,
     "metadata": {},
     "output_type": "execute_result"
    }
   ],
   "source": [
    "cur.rowcount"
   ]
  },
  {
   "cell_type": "code",
   "execution_count": 100,
   "metadata": {},
   "outputs": [
    {
     "data": {
      "text/plain": [
       "[(1, 'hello', 0)]"
      ]
     },
     "execution_count": 100,
     "metadata": {},
     "output_type": "execute_result"
    }
   ],
   "source": [
    "cur.fetchall()"
   ]
  },
  {
   "cell_type": "code",
   "execution_count": 96,
   "metadata": {},
   "outputs": [
    {
     "data": {
      "text/plain": [
       "-1"
      ]
     },
     "execution_count": 96,
     "metadata": {},
     "output_type": "execute_result"
    }
   ],
   "source": [
    "cur.rowcount"
   ]
  },
  {
   "cell_type": "markdown",
   "metadata": {},
   "source": [
    "Define what is the User object should be like."
   ]
  },
  {
   "cell_type": "code",
   "execution_count": 118,
   "metadata": {},
   "outputs": [
    {
     "ename": "NameError",
     "evalue": "name 'Model' is not defined",
     "output_type": "error",
     "traceback": [
      "\u001b[0;31m---------------------------------------------------------------------------\u001b[0m",
      "\u001b[0;31mNameError\u001b[0m                                 Traceback (most recent call last)",
      "\u001b[0;32m<ipython-input-118-afdfa72627dc>\u001b[0m in \u001b[0;36m<module>\u001b[0;34m()\u001b[0m\n\u001b[0;32m----> 1\u001b[0;31m \u001b[0;32mclass\u001b[0m \u001b[0mUser\u001b[0m\u001b[0;34m(\u001b[0m\u001b[0mModel\u001b[0m\u001b[0;34m)\u001b[0m\u001b[0;34m:\u001b[0m\u001b[0;34m\u001b[0m\u001b[0m\n\u001b[0m\u001b[1;32m      2\u001b[0m     \u001b[0m__table__\u001b[0m \u001b[0;34m=\u001b[0m \u001b[0;34m'users'\u001b[0m\u001b[0;34m\u001b[0m\u001b[0m\n\u001b[1;32m      3\u001b[0m \u001b[0;34m\u001b[0m\u001b[0m\n\u001b[1;32m      4\u001b[0m     \u001b[0mid\u001b[0m \u001b[0;34m=\u001b[0m \u001b[0mIntegerField\u001b[0m\u001b[0;34m(\u001b[0m\u001b[0mprimary_key\u001b[0m\u001b[0;34m=\u001b[0m\u001b[0;32mTrue\u001b[0m\u001b[0;34m)\u001b[0m\u001b[0;34m\u001b[0m\u001b[0m\n\u001b[1;32m      5\u001b[0m     \u001b[0mname\u001b[0m \u001b[0;34m=\u001b[0m \u001b[0mStringField\u001b[0m\u001b[0;34m(\u001b[0m\u001b[0;34m)\u001b[0m\u001b[0;34m\u001b[0m\u001b[0m\n",
      "\u001b[0;31mNameError\u001b[0m: name 'Model' is not defined"
     ]
    }
   ],
   "source": [
    "class User(Model):\n",
    "    __table__ = 'users'\n",
    "    \n",
    "    id = IntegerField(primary_key=True)\n",
    "    name = StringField()\n",
    "    # id, name, __table__ is will be the attribute of the class not for the class instance.\n",
    "    # The difference of that is will can call the the attribute direactly user User.id. no more need instance."
   ]
  },
  {
   "cell_type": "code",
   "execution_count": 115,
   "metadata": {
    "collapsed": true
   },
   "outputs": [],
   "source": [
    "# create instance\n",
    "user = User(id=123, name='Alice')\n",
    "# save to the DB\n",
    "user.insert()\n",
    "# query the user object\n",
    "users = User.findAll()"
   ]
  },
  {
   "cell_type": "code",
   "execution_count": 219,
   "metadata": {
    "collapsed": true
   },
   "outputs": [],
   "source": [
    "# Define the basic class of ORM Model\n",
    "class Model(dict):\n",
    "    def __init__(self, **kwargs):\n",
    "        super(Model, self).__init__(**kwargs)\n",
    "        \n",
    "    def __getattr__(self, key):\n",
    "        try:\n",
    "            return self[key]\n",
    "        except KeyError:\n",
    "            raise AttributeError(\"'Model' object not has attribute {}\".format(key))\n",
    "    \n",
    "    def __setattr__(self, key, value):\n",
    "\n",
    "        self[key] = value"
   ]
  },
  {
   "cell_type": "code",
   "execution_count": 220,
   "metadata": {
    "collapsed": true
   },
   "outputs": [],
   "source": [
    "# Model class inherited dict, the instance of Model is the dict.\n",
    "user_dict = Model(id=123, name='Alice')"
   ]
  },
  {
   "cell_type": "code",
   "execution_count": 221,
   "metadata": {},
   "outputs": [
    {
     "ename": "AttributeError",
     "evalue": "'Model' object not has attribute age",
     "output_type": "error",
     "traceback": [
      "\u001b[0;31m---------------------------------------------------------------------------\u001b[0m",
      "\u001b[0;31mKeyError\u001b[0m                                  Traceback (most recent call last)",
      "\u001b[0;32m<ipython-input-219-76e93ee521b2>\u001b[0m in \u001b[0;36m__getattr__\u001b[0;34m(self, key)\u001b[0m\n\u001b[1;32m      7\u001b[0m         \u001b[0;32mtry\u001b[0m\u001b[0;34m:\u001b[0m\u001b[0;34m\u001b[0m\u001b[0m\n\u001b[0;32m----> 8\u001b[0;31m             \u001b[0;32mreturn\u001b[0m \u001b[0mself\u001b[0m\u001b[0;34m[\u001b[0m\u001b[0mkey\u001b[0m\u001b[0;34m]\u001b[0m\u001b[0;34m\u001b[0m\u001b[0m\n\u001b[0m\u001b[1;32m      9\u001b[0m         \u001b[0;32mexcept\u001b[0m \u001b[0mKeyError\u001b[0m\u001b[0;34m:\u001b[0m\u001b[0;34m\u001b[0m\u001b[0m\n",
      "\u001b[0;31mKeyError\u001b[0m: 'age'",
      "\nDuring handling of the above exception, another exception occurred:\n",
      "\u001b[0;31mAttributeError\u001b[0m                            Traceback (most recent call last)",
      "\u001b[0;32m<ipython-input-221-15d5e17c47f2>\u001b[0m in \u001b[0;36m<module>\u001b[0;34m()\u001b[0m\n\u001b[0;32m----> 1\u001b[0;31m \u001b[0muser_dict\u001b[0m\u001b[0;34m.\u001b[0m\u001b[0mage\u001b[0m\u001b[0;34m\u001b[0m\u001b[0m\n\u001b[0m\u001b[1;32m      2\u001b[0m \u001b[0muser_dict\u001b[0m\u001b[0;34m\u001b[0m\u001b[0m\n",
      "\u001b[0;32m<ipython-input-219-76e93ee521b2>\u001b[0m in \u001b[0;36m__getattr__\u001b[0;34m(self, key)\u001b[0m\n\u001b[1;32m      8\u001b[0m             \u001b[0;32mreturn\u001b[0m \u001b[0mself\u001b[0m\u001b[0;34m[\u001b[0m\u001b[0mkey\u001b[0m\u001b[0;34m]\u001b[0m\u001b[0;34m\u001b[0m\u001b[0m\n\u001b[1;32m      9\u001b[0m         \u001b[0;32mexcept\u001b[0m \u001b[0mKeyError\u001b[0m\u001b[0;34m:\u001b[0m\u001b[0;34m\u001b[0m\u001b[0m\n\u001b[0;32m---> 10\u001b[0;31m             \u001b[0;32mraise\u001b[0m \u001b[0mAttributeError\u001b[0m\u001b[0;34m(\u001b[0m\u001b[0;34m\"'Model' object not has attribute {}\"\u001b[0m\u001b[0;34m.\u001b[0m\u001b[0mformat\u001b[0m\u001b[0;34m(\u001b[0m\u001b[0mkey\u001b[0m\u001b[0;34m)\u001b[0m\u001b[0;34m)\u001b[0m\u001b[0;34m\u001b[0m\u001b[0m\n\u001b[0m\u001b[1;32m     11\u001b[0m \u001b[0;34m\u001b[0m\u001b[0m\n\u001b[1;32m     12\u001b[0m     \u001b[0;32mdef\u001b[0m \u001b[0m__setattr__\u001b[0m\u001b[0;34m(\u001b[0m\u001b[0mself\u001b[0m\u001b[0;34m,\u001b[0m \u001b[0mkey\u001b[0m\u001b[0;34m,\u001b[0m \u001b[0mvalue\u001b[0m\u001b[0;34m)\u001b[0m\u001b[0;34m:\u001b[0m\u001b[0;34m\u001b[0m\u001b[0m\n",
      "\u001b[0;31mAttributeError\u001b[0m: 'Model' object not has attribute age"
     ]
    }
   ],
   "source": [
    "user_dict.age\n",
    "user_dict"
   ]
  },
  {
   "cell_type": "code",
   "execution_count": 209,
   "metadata": {
    "collapsed": true
   },
   "outputs": [],
   "source": [
    "def fn(name):\n",
    "    print\n",
    "User = type('User', (object,), dict(func = lambda self, n: print(n)))"
   ]
  },
  {
   "cell_type": "code",
   "execution_count": 211,
   "metadata": {},
   "outputs": [
    {
     "name": "stdout",
     "output_type": "stream",
     "text": [
      "hello\n"
     ]
    },
    {
     "ename": "AttributeError",
     "evalue": "'User' object has no attribute 'a'",
     "output_type": "error",
     "traceback": [
      "\u001b[0;31m---------------------------------------------------------------------------\u001b[0m",
      "\u001b[0;31mAttributeError\u001b[0m                            Traceback (most recent call last)",
      "\u001b[0;32m<ipython-input-211-cfe3dd5f6a64>\u001b[0m in \u001b[0;36m<module>\u001b[0;34m()\u001b[0m\n\u001b[1;32m      1\u001b[0m \u001b[0muser\u001b[0m \u001b[0;34m=\u001b[0m \u001b[0mUser\u001b[0m\u001b[0;34m(\u001b[0m\u001b[0;34m)\u001b[0m\u001b[0;34m\u001b[0m\u001b[0m\n\u001b[1;32m      2\u001b[0m \u001b[0muser\u001b[0m\u001b[0;34m.\u001b[0m\u001b[0mfunc\u001b[0m\u001b[0;34m(\u001b[0m\u001b[0;34m\"hello\"\u001b[0m\u001b[0;34m)\u001b[0m\u001b[0;34m\u001b[0m\u001b[0m\n\u001b[0;32m----> 3\u001b[0;31m \u001b[0muser\u001b[0m\u001b[0;34m.\u001b[0m\u001b[0ma\u001b[0m\u001b[0;34m\u001b[0m\u001b[0m\n\u001b[0m",
      "\u001b[0;31mAttributeError\u001b[0m: 'User' object has no attribute 'a'"
     ]
    }
   ],
   "source": [
    "user = User()\n",
    "user.func(\"hello\")\n",
    "user.a"
   ]
  },
  {
   "cell_type": "code",
   "execution_count": 1,
   "metadata": {},
   "outputs": [],
   "source": [
    "class Field(object):\n",
    "    def __init__(self, column_type, primary_key, default):\n",
    "        self.column_type = column_type\n",
    "        self.primary_key = primary_key\n",
    "        self.default = default\n",
    "    def __repr__(self):\n",
    "        return '<{}, {}>'.format(self.__class__.__name__, self.column_type)\n",
    "    \n",
    "class TextField(Field):\n",
    "    \n",
    "    def __init__(self, column_type='TEXT NOT NULL', default=\"\", primary_key=False):\n",
    "        super(TextField, self).__init__(column_type, primary_key, default)\n",
    "        \n",
    "class IntegerField(Field):\n",
    "    \n",
    "    def __init__(self, column_type='INTEGER NOT NULL', default=1, primary_key=False):\n",
    "        super(IntegerField, self).__init__(column_type, primary_key, default)\n",
    "        \n",
    "class BooleanField(Field):\n",
    "    def __init__(self, column_type='BOOLEAN NOT NULL', default=False):\n",
    "        super(BooleanField, self).__init__(column_type, False, default)"
   ]
  },
  {
   "cell_type": "code",
   "execution_count": 282,
   "metadata": {},
   "outputs": [
    {
     "name": "stdout",
     "output_type": "stream",
     "text": [
      "id\n",
      "context\n",
      "flag\n"
     ]
    }
   ],
   "source": [
    "class ModelMetaclass(type):\n",
    "    \"\"\"\n",
    "    Meta class of Model.\n",
    "    \"\"\"\n",
    "    def __new__(cls, name, bases, attrs):\n",
    "        \"\"\"\n",
    "        Customize the class instance creation\n",
    "\n",
    "        Every child class which inherit from the `Model` class will automatically\n",
    "        create the following attributes of that class.\n",
    "\n",
    "        Definition Class Attributes:\n",
    "        ----------------------------\n",
    "            PRIMARY_KEY : Store the attribute name which is belong to\n",
    "                        `Field` object with set argument (primary_key = True)\n",
    "            MAPPINGS : A dict which storing the relationship of the class\n",
    "                       attribute name and it's bounded `Field` object. \n",
    "            TABLE_NAME : The name of table which be took from the class name.\n",
    "            FIELDS : A list which store the attribute name which is belong\n",
    "                     to `Field` object without set argument (primary_key =True)\n",
    "\n",
    "        Parametes:\n",
    "        ----------\n",
    "        cls : object\n",
    "            Object of the class.\n",
    "        name : str\n",
    "            Name of the class.\n",
    "        bases : tuple\n",
    "            A tuple of class that be inherited from.\n",
    "        attrs : dict\n",
    "            A dict of class attributes\n",
    "        \n",
    "        Returns\n",
    "        -------\n",
    "            A new instance of class\n",
    "        \"\"\"\n",
    "        if name == 'Model':\n",
    "            return type.__new__(cls, name, bases, attrs)\n",
    "        table_name = name\n",
    "        primary_key = None\n",
    "        fields = []\n",
    "        mappings = dict()\n",
    "        for k, v in attrs.items():\n",
    "            if isinstance(v, Field):\n",
    "                mappings[k] = v\n",
    "                if v.primary_key:\n",
    "                    if primary_key:\n",
    "                        raise NameError('Primary key should only be one.')\n",
    "                    else:\n",
    "                        primary_key = k\n",
    "                else:\n",
    "                    fields.append(k)\n",
    "        if primary_key is None:\n",
    "            raise NameError('Primary key not found.')\n",
    "        # Delete the class attributes which is belong to `Field` object.\n",
    "        # Because the class attributes may be overide by the same name of \n",
    "        # the class instance attributes.\n",
    "        for key in mappings:\n",
    "            print(key)\n",
    "            attrs.pop(key)\n",
    "\n",
    "        attrs['PRIMARY_KEY'] = primary_key\n",
    "        attrs['MAPPINGS'] = mappings\n",
    "        attrs['TABLE_NAME'] = table_name\n",
    "        attrs['FIELDS'] = fields\n",
    "        return type.__new__(cls, name, bases, attrs)\n",
    "    \n",
    "class Model(dict, metaclass=ModelMetaclass):\n",
    "    \"\"\"\n",
    "    The base class of DB model that provides simple OR mapping.\n",
    "    \"\"\"\n",
    "    def __init__(self, **kwargs):\n",
    "        \"\"\"\n",
    "        Inherit from dict object.\n",
    "        \"\"\"\n",
    "        super(Model, self).__init__(**kwargs)\n",
    "\n",
    "    def __getattr__(self, key):\n",
    "        \"\"\"\n",
    "        Get instance attributes method\n",
    "        \n",
    "        Usage : \n",
    "            model = Model(id=1)\n",
    "            model.id //will return 1\n",
    "        \"\"\"\n",
    "        try:\n",
    "            return self[key]\n",
    "        except KeyError:\n",
    "            raise AttributeError(\"'Model' object not has attribute {}\".format(key))\n",
    "\n",
    "    def __setattr__(self, key, value):\n",
    "        \"\"\"\n",
    "        Set instance attributes method\n",
    "\n",
    "        Usage : \n",
    "            model = Model()\n",
    "            model.id = 1\n",
    "            model // will return {'id' : 1}\n",
    "        \"\"\"\n",
    "        self[key] = value\n",
    "\n",
    "    def _get_value_or_default(self, key):\n",
    "        \"\"\"\n",
    "        Get the instance attribute value\n",
    "        \n",
    "        Parameters\n",
    "        ----------\n",
    "        key : str\n",
    "            The name of attribute\n",
    "        \n",
    "        Returns\n",
    "        -------\n",
    "        value : str | int | bool\n",
    "            The value of the instance attribute.\n",
    "            Or the default value which set in the \n",
    "            `Field` Object.\n",
    "        \"\"\"\n",
    "        value = getattr(self, key, None)\n",
    "        if value is None:\n",
    "            field = self.MAPPINGS[key]\n",
    "            if field.default is not None:\n",
    "                value = field.default\n",
    "                setattr(self, key, value)\n",
    "        return value\n",
    "\n",
    "    @classmethod\n",
    "    def _select(cls):\n",
    "        \"\"\"\n",
    "        SELECT SQL statement\n",
    "        \"\"\"\n",
    "        return 'SELECT {}, {} FROM {}'.format(\n",
    "            cls.PRIMARY_KEY,\n",
    "            ', '.join(cls.FIELDS),\n",
    "            cls.TABLE_NAME\n",
    "        )\n",
    "\n",
    "    @classmethod\n",
    "    def _update(cls):\n",
    "        \"\"\"\n",
    "        UPDATE SQL statement\n",
    "        \"\"\"\n",
    "        return 'UPDATE {} SET  {} where {}=?'.format(\n",
    "            cls.TABLE_NAME,\n",
    "            ', '.join(map(lambda f: '{}=?'.format(f), cls.FIELDS)),\n",
    "            cls.PRIMARY_KEY\n",
    "        )\n",
    "\n",
    "    @classmethod\n",
    "    def _delete(cls):\n",
    "        \"\"\"\n",
    "        DELETE SQL statement\n",
    "        \"\"\"\n",
    "        return 'DELETE FROM {} WHERE {}=?'.format(\n",
    "            cls.TABLE_NAME,\n",
    "            cls.PRIMARY_KEY\n",
    "        )\n",
    "\n",
    "    @classmethod\n",
    "    def create_table(cls):\n",
    "        \"\"\"\n",
    "        Execute create table SQL statement.\n",
    "        \"\"\"\n",
    "        values = []\n",
    "        for key, field in cls.MAPPINGS.items():\n",
    "            sql = ' '.join(\n",
    "                [key, field.column_type, 'PRIMARY KEY' if field.primary_key else ''])\n",
    "            values.append(sql)\n",
    "        #cur.execute(sql, args)\n",
    "        return 'CREATE TABLE IF NOT EXISTS {} ({})'.format(cls.TABLE_NAME, ','.join(values))\n",
    "\n",
    "    def to_dict(self, result):\n",
    "        # result is tuple\n",
    "        pass\n",
    "        \n",
    "    \n",
    "    @classmethod\n",
    "    def drop_table(cls):\n",
    "        \"\"\"\n",
    "        Execute drop table SQL statement.\n",
    "        \"\"\"\n",
    "        return 'DROP TABLE {}'.format(cls.TABLE_NAME)\n",
    "        \n",
    "    @classmethod\n",
    "    def find_all(cls, condition=None,  **kwargs):\n",
    "        \"\"\"\n",
    "        If want find item base on the primary_key the args just need the values.\n",
    "        \"\"\"\n",
    "        sql = [cls._select()]\n",
    "        args = []\n",
    "        if condition:\n",
    "            for key, value in condition.items():\n",
    "                sql.append('WHERE {}=?'.format(key))\n",
    "                args = value\n",
    "        order_by = kwargs.get('order_by')\n",
    "        if order_by:\n",
    "            sql.append('ORDER BY')\n",
    "            sql.append(order_by)\n",
    "        #cur.execute(sql, args)\n",
    "        [cls(*r) for r in result]\n",
    "        return ' '.join(sql), args\n",
    "\n",
    "    @classmethod\n",
    "    def find(cls, primary_key):\n",
    "        sql = '{} WHERE {} = ?'.format(cls._select(), cls.PRIMARY_KEY)\n",
    "        #cur.execute(sql, [prima_key])\n",
    "        [cls(*r) for r in result]\n",
    "        return sql, [primary_key]\n",
    "\n",
    "    def remove(self):\n",
    "        #cur.execute(self._delete(), [self._get_value_or_default(self.PRIMARY_KEY)])\n",
    "        pass\n",
    "\n",
    "    def fn(self, k):\n",
    "        if k in self.FIELDS:\n",
    "            return k\n",
    "\n",
    "    def update(self):\n",
    "        return 'UPDATE {} SET  {} where {}=?'.format(\n",
    "            self.TABLE_NAME,\n",
    "            ', '.join(map(lambda f: '{}=?'.format(f), self)),\n",
    "            self.PRIMARY_KEY\n",
    "        )\n",
    "        #cur.execute(self._update(), [args])\n",
    "\n",
    "\n",
    "class Todo(Model):\n",
    "    id = IntegerField(primary_key=True)\n",
    "    context = TextField()\n",
    "    flag = BooleanField()\n"
   ]
  },
  {
   "cell_type": "code",
   "execution_count": 285,
   "metadata": {},
   "outputs": [
    {
     "data": {
      "text/plain": [
       "1"
      ]
     },
     "execution_count": 285,
     "metadata": {},
     "output_type": "execute_result"
    }
   ],
   "source": [
    "Todo.MAPPINGS['id'].default"
   ]
  },
  {
   "cell_type": "code",
   "execution_count": 270,
   "metadata": {},
   "outputs": [
    {
     "data": {
      "text/plain": [
       "'UPDATE Todo SET  id=?, flag=? where id=?'"
      ]
     },
     "execution_count": 270,
     "metadata": {},
     "output_type": "execute_result"
    }
   ],
   "source": [
    "sql = Todo(id=1, flag=True).update()\n",
    "sql"
   ]
  },
  {
   "cell_type": "code",
   "execution_count": 6,
   "metadata": {},
   "outputs": [],
   "source": [
    "import sqlite3"
   ]
  },
  {
   "cell_type": "code",
   "execution_count": 15,
   "metadata": {},
   "outputs": [],
   "source": [
    "def execute_return_rowcount(sql, args=[], autocommit=True):\n",
    "    conn = sqlite3.connect('data.sql')\n",
    "    cursor = conn.cursor()\n",
    "    cursor.execute(sql, args)\n",
    "    affected = cursor.rowcount\n",
    "    if autocommit:\n",
    "        conn.commit()\n",
    "    return affected"
   ]
  },
  {
   "cell_type": "code",
   "execution_count": 14,
   "metadata": {},
   "outputs": [],
   "source": [
    "def execute_return_result(sql, args=[], size=None):\n",
    "    conn = sqlite3.connect('data.sql')\n",
    "    cursor = conn.cursor()\n",
    "    cursor.execute(sql, args)\n",
    "    if size:\n",
    "        result = cursor.fetchmany(size)\n",
    "    else:\n",
    "        result = cursor.fetchall()\n",
    "    return self.to_dict(result)"
   ]
  },
  {
   "cell_type": "code",
   "execution_count": 274,
   "metadata": {},
   "outputs": [
    {
     "ename": "AttributeError",
     "evalue": "type object 'Todo' has no attribute 'id'",
     "output_type": "error",
     "traceback": [
      "\u001b[0;31m---------------------------------------------------------------------------\u001b[0m",
      "\u001b[0;31mAttributeError\u001b[0m                            Traceback (most recent call last)",
      "\u001b[0;32m<ipython-input-274-1af85f13c485>\u001b[0m in \u001b[0;36m<module>\u001b[0;34m()\u001b[0m\n\u001b[0;32m----> 1\u001b[0;31m \u001b[0mTodo\u001b[0m\u001b[0;34m.\u001b[0m\u001b[0mid\u001b[0m\u001b[0;34m\u001b[0m\u001b[0m\n\u001b[0m",
      "\u001b[0;31mAttributeError\u001b[0m: type object 'Todo' has no attribute 'id'"
     ]
    }
   ],
   "source": [
    "Todo.id"
   ]
  },
  {
   "cell_type": "code",
   "execution_count": 97,
   "metadata": {},
   "outputs": [
    {
     "data": {
      "text/plain": [
       "'Todo'"
      ]
     },
     "execution_count": 97,
     "metadata": {},
     "output_type": "execute_result"
    }
   ],
   "source": [
    "Todo.TABLE_NAME"
   ]
  },
  {
   "cell_type": "code",
   "execution_count": 102,
   "metadata": {},
   "outputs": [],
   "source": [
    "sql =\"PRAGMA table_info(Todo)\";"
   ]
  },
  {
   "cell_type": "code",
   "execution_count": 103,
   "metadata": {},
   "outputs": [
    {
     "data": {
      "text/plain": [
       "-1"
      ]
     },
     "execution_count": 103,
     "metadata": {},
     "output_type": "execute_result"
    }
   ],
   "source": [
    "execute_return_rowcount(sql)"
   ]
  },
  {
   "cell_type": "code",
   "execution_count": 143,
   "metadata": {},
   "outputs": [
    {
     "data": {
      "text/plain": [
       "('SELECT id, context, flag FROM Todo WHERE id=?', 10)"
      ]
     },
     "execution_count": 143,
     "metadata": {},
     "output_type": "execute_result"
    }
   ],
   "source": [
    "sql, args = Todo.find_all({'id': 10})\n",
    "sql, args"
   ]
  },
  {
   "cell_type": "code",
   "execution_count": 144,
   "metadata": {},
   "outputs": [
    {
     "data": {
      "text/plain": [
       "[]"
      ]
     },
     "execution_count": 144,
     "metadata": {},
     "output_type": "execute_result"
    }
   ],
   "source": [
    "result = execute_return_result(sql, [args])\n",
    "result"
   ]
  },
  {
   "cell_type": "code",
   "execution_count": 26,
   "metadata": {},
   "outputs": [
    {
     "data": {
      "text/plain": [
       "[(3, 'hello', 0), (2, 'hello', 0), (1, 'hello', 0)]"
      ]
     },
     "execution_count": 26,
     "metadata": {},
     "output_type": "execute_result"
    }
   ],
   "source": [
    "class foo(dict):\n",
    "    def __init__(self,id, contect, flsg **kwargs):\n",
    "        super(foo, self).__init(**kwargs)"
   ]
  },
  {
   "cell_type": "code",
   "execution_count": 28,
   "metadata": {},
   "outputs": [],
   "source": [
    "def foo(*r):\n",
    "    print(r)"
   ]
  },
  {
   "cell_type": "code",
   "execution_count": 71,
   "metadata": {
    "scrolled": true
   },
   "outputs": [],
   "source": [
    "todo_list = [cls(*r) for r in result]"
   ]
  },
  {
   "cell_type": "code",
   "execution_count": 73,
   "metadata": {},
   "outputs": [
    {
     "name": "stdout",
     "output_type": "stream",
     "text": [
      "3\n",
      "2\n",
      "1\n"
     ]
    }
   ],
   "source": [
    "for todo in todo_list:\n",
    "    print(todo.id)"
   ]
  },
  {
   "cell_type": "code",
   "execution_count": 106,
   "metadata": {},
   "outputs": [
    {
     "data": {
      "text/plain": [
       "[1, 2]"
      ]
     },
     "execution_count": 106,
     "metadata": {},
     "output_type": "execute_result"
    }
   ],
   "source": [
    "list(list(map(lambda f: f, [1, 2])))"
   ]
  },
  {
   "cell_type": "code",
   "execution_count": 148,
   "metadata": {},
   "outputs": [],
   "source": [
    "keys = {\"c\": 2, \"b\": 3}"
   ]
  },
  {
   "cell_type": "code",
   "execution_count": 149,
   "metadata": {},
   "outputs": [],
   "source": [
    "values = []\n",
    "m = zip(keys, values)"
   ]
  },
  {
   "cell_type": "code",
   "execution_count": 154,
   "metadata": {},
   "outputs": [
    {
     "data": {
      "text/plain": [
       "{}"
      ]
     },
     "execution_count": 154,
     "metadata": {},
     "output_type": "execute_result"
    }
   ],
   "source": [
    "bar = dict(list(m))\n",
    "bar"
   ]
  },
  {
   "cell_type": "code",
   "execution_count": 173,
   "metadata": {},
   "outputs": [
    {
     "data": {
      "text/plain": [
       "True"
      ]
     },
     "execution_count": 173,
     "metadata": {},
     "output_type": "execute_result"
    }
   ],
   "source": [
    "values = [1, 2]\n",
    "1 in values"
   ]
  },
  {
   "cell_type": "code",
   "execution_count": 156,
   "metadata": {
    "scrolled": true
   },
   "outputs": [
    {
     "ename": "TypeError",
     "evalue": "foo() takes 0 positional arguments but 1 was given",
     "output_type": "error",
     "traceback": [
      "\u001b[0;31m---------------------------------------------------------------------------\u001b[0m",
      "\u001b[0;31mTypeError\u001b[0m                                 Traceback (most recent call last)",
      "\u001b[0;32m<ipython-input-156-5d8b3469bc4e>\u001b[0m in \u001b[0;36m<module>\u001b[0;34m()\u001b[0m\n\u001b[0;32m----> 1\u001b[0;31m \u001b[0mfoo\u001b[0m\u001b[0;34m(\u001b[0m\u001b[0mbar\u001b[0m\u001b[0;34m)\u001b[0m\u001b[0;34m\u001b[0m\u001b[0m\n\u001b[0m",
      "\u001b[0;31mTypeError\u001b[0m: foo() takes 0 positional arguments but 1 was given"
     ]
    }
   ],
   "source": [
    "foo(bar)"
   ]
  },
  {
   "cell_type": "code",
   "execution_count": 163,
   "metadata": {},
   "outputs": [
    {
     "data": {
      "text/plain": [
       "False"
      ]
     },
     "execution_count": 163,
     "metadata": {},
     "output_type": "execute_result"
    }
   ],
   "source": [
    "0 is None"
   ]
  },
  {
   "cell_type": "code",
   "execution_count": 273,
   "metadata": {},
   "outputs": [
    {
     "ename": "TypeError",
     "evalue": "unsupported operand type(s) for -: 'builtin_function_or_method' and 'builtin_function_or_method'",
     "output_type": "error",
     "traceback": [
      "\u001b[0;31m---------------------------------------------------------------------------\u001b[0m",
      "\u001b[0;31mTypeError\u001b[0m                                 Traceback (most recent call last)",
      "\u001b[0;32m<ipython-input-273-c28bcbcc6d2c>\u001b[0m in \u001b[0;36m<module>\u001b[0;34m()\u001b[0m\n\u001b[1;32m      3\u001b[0m \u001b[0mtime\u001b[0m\u001b[0;34m.\u001b[0m\u001b[0msleep\u001b[0m\u001b[0;34m(\u001b[0m\u001b[0;36m2\u001b[0m\u001b[0;34m)\u001b[0m\u001b[0;34m\u001b[0m\u001b[0m\n\u001b[1;32m      4\u001b[0m \u001b[0mt2\u001b[0m \u001b[0;34m=\u001b[0m \u001b[0mtime\u001b[0m\u001b[0;34m.\u001b[0m\u001b[0mtime\u001b[0m\u001b[0;34m\u001b[0m\u001b[0m\n\u001b[0;32m----> 5\u001b[0;31m \u001b[0mt1\u001b[0m\u001b[0;34m-\u001b[0m\u001b[0mt2\u001b[0m\u001b[0;34m\u001b[0m\u001b[0m\n\u001b[0m",
      "\u001b[0;31mTypeError\u001b[0m: unsupported operand type(s) for -: 'builtin_function_or_method' and 'builtin_function_or_method'"
     ]
    }
   ],
   "source": [
    "import time\n",
    "t1 = time.time\n",
    "time.sleep(2)\n",
    "t2 = time.time\n",
    "t1-t2"
   ]
  },
  {
   "cell_type": "code",
   "execution_count": null,
   "metadata": {},
   "outputs": [],
   "source": []
  }
 ],
 "metadata": {
  "kernelspec": {
   "display_name": "Python 3",
   "language": "python",
   "name": "python3"
  },
  "language_info": {
   "codemirror_mode": {
    "name": "ipython",
    "version": 3
   },
   "file_extension": ".py",
   "mimetype": "text/x-python",
   "name": "python",
   "nbconvert_exporter": "python",
   "pygments_lexer": "ipython3",
   "version": "3.6.3"
  }
 },
 "nbformat": 4,
 "nbformat_minor": 2
}
